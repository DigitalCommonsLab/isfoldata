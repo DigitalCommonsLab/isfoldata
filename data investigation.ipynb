{
 "cells": [
  {
   "cell_type": "code",
   "execution_count": 3,
   "metadata": {},
   "outputs": [],
   "source": [
    "import pandas as pd\n",
    "import sqlite3\n",
    "conn = sqlite3.connect('isfol.sqlite')\n",
    "professioni = pd.read_sql_query(\"select * from professioni;\", conn)"
   ]
  },
  {
   "cell_type": "code",
   "execution_count": 5,
   "metadata": {},
   "outputs": [
    {
     "data": {
      "text/html": [
       "<div>\n",
       "<style scoped>\n",
       "    .dataframe tbody tr th:only-of-type {\n",
       "        vertical-align: middle;\n",
       "    }\n",
       "\n",
       "    .dataframe tbody tr th {\n",
       "        vertical-align: top;\n",
       "    }\n",
       "\n",
       "    .dataframe thead th {\n",
       "        text-align: right;\n",
       "    }\n",
       "</style>\n",
       "<table border=\"1\" class=\"dataframe\">\n",
       "  <thead>\n",
       "    <tr style=\"text-align: right;\">\n",
       "      <th></th>\n",
       "      <th>id</th>\n",
       "      <th>pk_professioni</th>\n",
       "      <th>nome</th>\n",
       "      <th>fk_livello5</th>\n",
       "      <th>anno</th>\n",
       "      <th>provenienza</th>\n",
       "      <th>pk_professioni_01</th>\n",
       "      <th>nome_01</th>\n",
       "      <th>codice</th>\n",
       "      <th>flag_vista</th>\n",
       "    </tr>\n",
       "  </thead>\n",
       "  <tbody>\n",
       "    <tr>\n",
       "      <th>0</th>\n",
       "      <td>1</td>\n",
       "      <td>1.1.1.1.0.1</td>\n",
       "      <td>membro del consiglio dei ministri</td>\n",
       "      <td>1.1.1.1.0</td>\n",
       "      <td>2005</td>\n",
       "      <td>CP2001</td>\n",
       "      <td>1.1.1.1.0.0</td>\n",
       "      <td>membro del consiglio dei ministri</td>\n",
       "      <td></td>\n",
       "      <td>None</td>\n",
       "    </tr>\n",
       "    <tr>\n",
       "      <th>1</th>\n",
       "      <td>2</td>\n",
       "      <td>1.1.1.1.0.2</td>\n",
       "      <td>membro del senato</td>\n",
       "      <td>1.1.1.1.0</td>\n",
       "      <td>2005</td>\n",
       "      <td>CP2001</td>\n",
       "      <td>1.1.1.1.0.1</td>\n",
       "      <td>membro del senato</td>\n",
       "      <td></td>\n",
       "      <td>None</td>\n",
       "    </tr>\n",
       "  </tbody>\n",
       "</table>\n",
       "</div>"
      ],
      "text/plain": [
       "   id pk_professioni                               nome fk_livello5  anno  \\\n",
       "0   1    1.1.1.1.0.1  membro del consiglio dei ministri   1.1.1.1.0  2005   \n",
       "1   2    1.1.1.1.0.2                  membro del senato   1.1.1.1.0  2005   \n",
       "\n",
       "  provenienza pk_professioni_01                            nome_01 codice  \\\n",
       "0      CP2001       1.1.1.1.0.0  membro del consiglio dei ministri          \n",
       "1      CP2001       1.1.1.1.0.1                  membro del senato          \n",
       "\n",
       "  flag_vista  \n",
       "0       None  \n",
       "1       None  "
      ]
     },
     "execution_count": 5,
     "metadata": {},
     "output_type": "execute_result"
    }
   ],
   "source": [
    "professioni.head(2)"
   ]
  },
  {
   "cell_type": "code",
   "execution_count": 7,
   "metadata": {},
   "outputs": [],
   "source": [
    "compiti = pd.read_sql_query(\"Select * from indagine_compiti_attivita;\",conn)"
   ]
  },
  {
   "cell_type": "code",
   "execution_count": 10,
   "metadata": {},
   "outputs": [
    {
     "data": {
      "text/plain": [
       "9301"
      ]
     },
     "execution_count": 10,
     "metadata": {},
     "output_type": "execute_result"
    }
   ],
   "source": [
    "compiti.desc_attivita.size"
   ]
  },
  {
   "cell_type": "code",
   "execution_count": 13,
   "metadata": {},
   "outputs": [
    {
     "data": {
      "text/plain": [
       "6223"
      ]
     },
     "execution_count": 13,
     "metadata": {},
     "output_type": "execute_result"
    }
   ],
   "source": [
    "compiti.desc_attivita.unique().size"
   ]
  },
  {
   "cell_type": "code",
   "execution_count": null,
   "metadata": {},
   "outputs": [],
   "source": []
  }
 ],
 "metadata": {
  "kernelspec": {
   "display_name": "Python 3",
   "language": "python",
   "name": "python3"
  },
  "language_info": {
   "codemirror_mode": {
    "name": "ipython",
    "version": 3
   },
   "file_extension": ".py",
   "mimetype": "text/x-python",
   "name": "python",
   "nbconvert_exporter": "python",
   "pygments_lexer": "ipython3",
   "version": "3.6.5"
  }
 },
 "nbformat": 4,
 "nbformat_minor": 2
}
